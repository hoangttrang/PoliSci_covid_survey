{
 "cells": [
  {
   "cell_type": "code",
   "execution_count": null,
   "metadata": {},
   "outputs": [],
   "source": []
  },
  {
   "cell_type": "markdown",
   "metadata": {},
   "source": [
    "## Load Data"
   ]
  },
  {
   "cell_type": "code",
   "execution_count": 2,
   "metadata": {},
   "outputs": [],
   "source": [
    "import pandas as pd \n",
    "import numpy as  np \n",
    "import pyreadr\n",
    "import os \n",
    "\n",
    "current_wd=os.getcwd()"
   ]
  },
  {
   "cell_type": "code",
   "execution_count": 3,
   "metadata": {},
   "outputs": [
    {
     "data": {
      "text/plain": [
       "'C:\\\\Users\\\\tata\\\\Documents\\\\Vanderbilt_research_proj\\\\PoliScience\\\\github'"
      ]
     },
     "execution_count": 3,
     "metadata": {},
     "output_type": "execute_result"
    }
   ],
   "source": [
    "os.path.dirname(current_wd)"
   ]
  },
  {
   "cell_type": "code",
   "execution_count": 5,
   "metadata": {},
   "outputs": [
    {
     "data": {
      "text/html": [
       "<div>\n",
       "<style scoped>\n",
       "    .dataframe tbody tr th:only-of-type {\n",
       "        vertical-align: middle;\n",
       "    }\n",
       "\n",
       "    .dataframe tbody tr th {\n",
       "        vertical-align: top;\n",
       "    }\n",
       "\n",
       "    .dataframe thead th {\n",
       "        text-align: right;\n",
       "    }\n",
       "</style>\n",
       "<table border=\"1\" class=\"dataframe\">\n",
       "  <thead>\n",
       "    <tr style=\"text-align: right;\">\n",
       "      <th></th>\n",
       "      <th>StartDate</th>\n",
       "      <th>EndDate</th>\n",
       "      <th>Status</th>\n",
       "      <th>IPAddress</th>\n",
       "      <th>Progress</th>\n",
       "      <th>Duration__in_seconds_</th>\n",
       "      <th>Finished</th>\n",
       "      <th>RecordedDate</th>\n",
       "      <th>ResponseId</th>\n",
       "      <th>RecipientLastName</th>\n",
       "      <th>...</th>\n",
       "      <th>p_LimitedGov</th>\n",
       "      <th>p_LimitedGov1</th>\n",
       "      <th>p_ScienceFear</th>\n",
       "      <th>p_ScienceTooFast</th>\n",
       "      <th>p_Libertarianism</th>\n",
       "      <th>p_SelfReliance</th>\n",
       "      <th>p_StrangerCutLine</th>\n",
       "      <th>p_PutOnShow</th>\n",
       "      <th>h_communityMask</th>\n",
       "      <th>h_communityGroceryMask</th>\n",
       "    </tr>\n",
       "  </thead>\n",
       "  <tbody>\n",
       "    <tr>\n",
       "      <th>0</th>\n",
       "      <td>2021-11-19 13:48:20</td>\n",
       "      <td>2021-11-19 13:53:41</td>\n",
       "      <td>0.0</td>\n",
       "      <td>73.216.114.158</td>\n",
       "      <td>100.0</td>\n",
       "      <td>320.0</td>\n",
       "      <td>1.0</td>\n",
       "      <td>2021-11-19 13:53:41</td>\n",
       "      <td>R_1espJB9ZHIg9ngo</td>\n",
       "      <td></td>\n",
       "      <td>...</td>\n",
       "      <td>0.0</td>\n",
       "      <td>0.0</td>\n",
       "      <td>-5.0</td>\n",
       "      <td>0.0</td>\n",
       "      <td>-4.0</td>\n",
       "      <td>0.0</td>\n",
       "      <td>0.0</td>\n",
       "      <td>0.0</td>\n",
       "      <td>9.0</td>\n",
       "      <td>0.0</td>\n",
       "    </tr>\n",
       "    <tr>\n",
       "      <th>1</th>\n",
       "      <td>2021-11-19 13:47:04</td>\n",
       "      <td>2021-11-19 13:54:37</td>\n",
       "      <td>0.0</td>\n",
       "      <td>108.185.238.236</td>\n",
       "      <td>100.0</td>\n",
       "      <td>452.0</td>\n",
       "      <td>1.0</td>\n",
       "      <td>2021-11-19 13:54:37</td>\n",
       "      <td>R_1Fyz86q35YBQDUI</td>\n",
       "      <td></td>\n",
       "      <td>...</td>\n",
       "      <td>-1.0</td>\n",
       "      <td>0.0</td>\n",
       "      <td>-5.0</td>\n",
       "      <td>0.0</td>\n",
       "      <td>-5.0</td>\n",
       "      <td>0.0</td>\n",
       "      <td>0.0</td>\n",
       "      <td>0.0</td>\n",
       "      <td>6.0</td>\n",
       "      <td>1.0</td>\n",
       "    </tr>\n",
       "    <tr>\n",
       "      <th>2</th>\n",
       "      <td>2021-11-19 13:45:52</td>\n",
       "      <td>2021-11-19 13:55:02</td>\n",
       "      <td>0.0</td>\n",
       "      <td>72.186.41.34</td>\n",
       "      <td>100.0</td>\n",
       "      <td>549.0</td>\n",
       "      <td>1.0</td>\n",
       "      <td>2021-11-19 13:55:02</td>\n",
       "      <td>R_XoWyI6XGT5hdf5T</td>\n",
       "      <td></td>\n",
       "      <td>...</td>\n",
       "      <td>0.0</td>\n",
       "      <td>1.0</td>\n",
       "      <td>-2.0</td>\n",
       "      <td>0.0</td>\n",
       "      <td>-5.0</td>\n",
       "      <td>0.0</td>\n",
       "      <td>0.0</td>\n",
       "      <td>0.0</td>\n",
       "      <td>9.0</td>\n",
       "      <td>0.0</td>\n",
       "    </tr>\n",
       "    <tr>\n",
       "      <th>3</th>\n",
       "      <td>2021-11-19 13:46:25</td>\n",
       "      <td>2021-11-19 13:55:56</td>\n",
       "      <td>0.0</td>\n",
       "      <td>205.154.88.148</td>\n",
       "      <td>100.0</td>\n",
       "      <td>570.0</td>\n",
       "      <td>1.0</td>\n",
       "      <td>2021-11-19 13:55:56</td>\n",
       "      <td>R_87YNShWdZrSGlzP</td>\n",
       "      <td></td>\n",
       "      <td>...</td>\n",
       "      <td>0.0</td>\n",
       "      <td>0.0</td>\n",
       "      <td>-4.0</td>\n",
       "      <td>0.0</td>\n",
       "      <td>-5.0</td>\n",
       "      <td>0.0</td>\n",
       "      <td>0.0</td>\n",
       "      <td>0.0</td>\n",
       "      <td>6.0</td>\n",
       "      <td>1.0</td>\n",
       "    </tr>\n",
       "    <tr>\n",
       "      <th>4</th>\n",
       "      <td>2021-11-19 13:46:08</td>\n",
       "      <td>2021-11-19 13:55:58</td>\n",
       "      <td>0.0</td>\n",
       "      <td>172.58.144.10</td>\n",
       "      <td>100.0</td>\n",
       "      <td>589.0</td>\n",
       "      <td>1.0</td>\n",
       "      <td>2021-11-19 13:55:58</td>\n",
       "      <td>R_29mggzhfSdfqZT6</td>\n",
       "      <td></td>\n",
       "      <td>...</td>\n",
       "      <td>-1.0</td>\n",
       "      <td>0.0</td>\n",
       "      <td>-2.0</td>\n",
       "      <td>0.0</td>\n",
       "      <td>-3.0</td>\n",
       "      <td>1.0</td>\n",
       "      <td>1.0</td>\n",
       "      <td>0.0</td>\n",
       "      <td>NaN</td>\n",
       "      <td>0.0</td>\n",
       "    </tr>\n",
       "  </tbody>\n",
       "</table>\n",
       "<p>5 rows × 180 columns</p>\n",
       "</div>"
      ],
      "text/plain": [
       "            StartDate             EndDate  Status        IPAddress  Progress  \\\n",
       "0 2021-11-19 13:48:20 2021-11-19 13:53:41     0.0   73.216.114.158     100.0   \n",
       "1 2021-11-19 13:47:04 2021-11-19 13:54:37     0.0  108.185.238.236     100.0   \n",
       "2 2021-11-19 13:45:52 2021-11-19 13:55:02     0.0     72.186.41.34     100.0   \n",
       "3 2021-11-19 13:46:25 2021-11-19 13:55:56     0.0   205.154.88.148     100.0   \n",
       "4 2021-11-19 13:46:08 2021-11-19 13:55:58     0.0    172.58.144.10     100.0   \n",
       "\n",
       "   Duration__in_seconds_  Finished        RecordedDate         ResponseId  \\\n",
       "0                  320.0       1.0 2021-11-19 13:53:41  R_1espJB9ZHIg9ngo   \n",
       "1                  452.0       1.0 2021-11-19 13:54:37  R_1Fyz86q35YBQDUI   \n",
       "2                  549.0       1.0 2021-11-19 13:55:02  R_XoWyI6XGT5hdf5T   \n",
       "3                  570.0       1.0 2021-11-19 13:55:56  R_87YNShWdZrSGlzP   \n",
       "4                  589.0       1.0 2021-11-19 13:55:58  R_29mggzhfSdfqZT6   \n",
       "\n",
       "  RecipientLastName  ... p_LimitedGov p_LimitedGov1 p_ScienceFear  \\\n",
       "0                    ...          0.0           0.0          -5.0   \n",
       "1                    ...         -1.0           0.0          -5.0   \n",
       "2                    ...          0.0           1.0          -2.0   \n",
       "3                    ...          0.0           0.0          -4.0   \n",
       "4                    ...         -1.0           0.0          -2.0   \n",
       "\n",
       "  p_ScienceTooFast p_Libertarianism p_SelfReliance p_StrangerCutLine  \\\n",
       "0              0.0             -4.0            0.0               0.0   \n",
       "1              0.0             -5.0            0.0               0.0   \n",
       "2              0.0             -5.0            0.0               0.0   \n",
       "3              0.0             -5.0            0.0               0.0   \n",
       "4              0.0             -3.0            1.0               1.0   \n",
       "\n",
       "   p_PutOnShow h_communityMask h_communityGroceryMask  \n",
       "0          0.0             9.0                    0.0  \n",
       "1          0.0             6.0                    1.0  \n",
       "2          0.0             9.0                    0.0  \n",
       "3          0.0             6.0                    1.0  \n",
       "4          0.0             NaN                    0.0  \n",
       "\n",
       "[5 rows x 180 columns]"
      ]
     },
     "execution_count": 5,
     "metadata": {},
     "output_type": "execute_result"
    }
   ],
   "source": [
    "# Load RDS data \n",
    "result = pyreadr.read_r(f'{current_wd}/data/AffectivePandemic.Rds') \n",
    "\n",
    "df = result[None] # extract the pandas data frame \n",
    "df.head()"
   ]
  },
  {
   "cell_type": "code",
   "execution_count": 6,
   "metadata": {},
   "outputs": [
    {
     "data": {
      "text/plain": [
       "180"
      ]
     },
     "execution_count": 6,
     "metadata": {},
     "output_type": "execute_result"
    }
   ],
   "source": [
    "len(list((df.columns)))"
   ]
  },
  {
   "cell_type": "markdown",
   "metadata": {},
   "source": [
    "print(list((df.columns)))"
   ]
  },
  {
   "cell_type": "markdown",
   "metadata": {},
   "source": [
    "## Data Preprocessing"
   ]
  },
  {
   "cell_type": "code",
   "execution_count": 22,
   "metadata": {},
   "outputs": [
    {
     "data": {
      "text/plain": [
       "<AxesSubplot:>"
      ]
     },
     "execution_count": 22,
     "metadata": {},
     "output_type": "execute_result"
    },
    {
     "data": {
      "image/png": "[encoded data removed]",
      "text/plain": [
       "<Figure size 432x288 with 1 Axes>"
      ]
     },
     "metadata": {
      "needs_background": "light"
     },
     "output_type": "display_data"
    }
   ],
   "source": [
    "# Check for missingness \n",
    "missingness_pct = df.isna().sum()/len(df)*100\n",
    "missingness_pct\n",
    "missingness_pct[missingness_pct!=0)].plot(kind='bar')"
   ]
  },
  {
   "cell_type": "code",
   "execution_count": 27,
   "metadata": {},
   "outputs": [
    {
     "data": {
      "text/plain": [
       "Qlimgov1                   0.922570\n",
       "Qlimgov2                   1.482702\n",
       "Qvaluesbattery_1           0.164745\n",
       "Qvaluesbattery_2           0.164745\n",
       "Qvaluesbattery_3           0.230643\n",
       "                            ...    \n",
       "p_SelfReliance             0.230643\n",
       "p_StrangerCutLine          0.296540\n",
       "p_PutOnShow                0.131796\n",
       "h_communityMask           30.576606\n",
       "h_communityGroceryMask     1.054366\n",
       "Length: 125, dtype: float64"
      ]
     },
     "execution_count": 27,
     "metadata": {},
     "output_type": "execute_result"
    }
   ],
   "source": [
    "missingness_pct[missingness_pct!=0]"
   ]
  },
  {
   "cell_type": "markdown",
   "metadata": {},
   "source": [
    "## Setup OpenAI\n"
   ]
  },
  {
   "cell_type": "code",
   "execution_count": 4,
   "metadata": {},
   "outputs": [],
   "source": [
    "from openai import OpenAI\n",
    "import openai\n",
    "\n",
    "client = OpenAI()\n",
    "openai.api_key = ''\n",
    "\n",
    "response = client.chat.completions.create(\n",
    "  model=\"gpt-3.5-turbo\",\n",
    "  messages=[\n",
    "    {\"role\": \"system\", \"content\": \"You are a helpful assistant.\"},\n",
    "    {\"role\": \"user\", \"content\": \"Who won the world series in 2020?\"},\n",
    "    {\"role\": \"assistant\", \"content\": \"The Los Angeles Dodgers won the World Series in 2020.\"},\n",
    "    {\"role\": \"user\", \"content\": \"Where was it played?\"}\n",
    "  ]\n",
    ") "
   ]
  },
  {
   "cell_type": "code",
   "execution_count": 5,
   "metadata": {},
   "outputs": [
    {
     "data": {
      "text/plain": [
       "ChatCompletion(id='chatcmpl-8IUnP8eVFp6pPj1KL1uZ5cWLmPDOa', choices=[Choice(finish_reason='stop', index=0, message=ChatCompletionMessage(content='The World Series in 2020 was played at Globe Life Field in Arlington, Texas.', role='assistant', function_call=None, tool_calls=None))], created=1699418975, model='gpt-3.5-turbo-0613', object='chat.completion', system_fingerprint=None, usage=CompletionUsage(completion_tokens=18, prompt_tokens=53, total_tokens=71))"
      ]
     },
     "execution_count": 5,
     "metadata": {},
     "output_type": "execute_result"
    }
   ],
   "source": [
    "response"
   ]
  },
  {
   "cell_type": "code",
   "execution_count": 9,
   "metadata": {},
   "outputs": [],
   "source": [
    "response = client.completions.create(\n",
    "  model=\"gpt-3.5-turbo-instruct\",\n",
    "  prompt=\"Write a tagline for an ice cream shop.\"\n",
    ")"
   ]
  },
  {
   "cell_type": "code",
   "execution_count": 10,
   "metadata": {},
   "outputs": [
    {
     "data": {
      "text/plain": [
       "Completion(id='cmpl-8IV1i4cpPXL9lxJMr9IFJjTkvb4IC', choices=[CompletionChoice(finish_reason='stop', index=0, logprobs=None, text='\\n\\n\"Scoop up a smile with every cone!\"')], created=1699419862, model='gpt-3.5-turbo-instruct', object='text_completion', system_fingerprint=None, usage=CompletionUsage(completion_tokens=10, prompt_tokens=10, total_tokens=20))"
      ]
     },
     "execution_count": 10,
     "metadata": {},
     "output_type": "execute_result"
    }
   ],
   "source": [
    "response"
   ]
  },
  {
   "cell_type": "code",
   "execution_count": null,
   "metadata": {},
   "outputs": [],
   "source": []
  }
 ],
 "metadata": {
  "kernelspec": {
   "display_name": "Python 3 (ipykernel)",
   "language": "python",
   "name": "python3"
  },
  "language_info": {
   "codemirror_mode": {
    "name": "ipython",
    "version": 3
   },
   "file_extension": ".py",
   "mimetype": "text/x-python",
   "name": "python",
   "nbconvert_exporter": "python",
   "pygments_lexer": "ipython3",
   "version": "3.9.12"
  }
 },
 "nbformat": 4,
 "nbformat_minor": 2
}
